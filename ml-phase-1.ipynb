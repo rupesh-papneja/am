{
 "cells": [
  {
   "cell_type": "markdown",
   "metadata": {},
   "source": [
    "# Predicting if a person is a nerd"
   ]
  },
  {
   "cell_type": "markdown",
   "metadata": {},
   "source": [
    "### Write something about the data\n",
    "Explain the mode of capture and possible values\n",
    "data dictionary etc etc."
   ]
  },
  {
   "cell_type": "code",
   "execution_count": 1,
   "metadata": {
    "collapsed": true
   },
   "outputs": [],
   "source": [
    "import pandas as pd # data processing, CSV file I/O (e.g. pd.read_csv)\n",
    "import numpy as np\n",
    "import matplotlib.pyplot as plt\n",
    "import seaborn as sns  # visualization tool\n",
    "import os as os\n",
    "from IPython.display import HTML, display\n",
    "from matplotlib.gridspec import GridSpec"
   ]
  },
  {
   "cell_type": "code",
   "execution_count": 2,
   "metadata": {},
   "outputs": [
    {
     "data": {
      "text/plain": [
       "(25226, 80)"
      ]
     },
     "execution_count": 2,
     "metadata": {},
     "output_type": "execute_result"
    }
   ],
   "source": [
    "sns.set(style=\"darkgrid\")\n",
    "os.chdir('c:\\\\ml\\\\project')\n",
    "data = pd.read_csv('data.csv', sep = '\\t')\n",
    "data.shape"
   ]
  },
  {
   "cell_type": "markdown",
   "metadata": {},
   "source": [
    "*The data contains **25226** rows and **80** columns*"
   ]
  },
  {
   "cell_type": "markdown",
   "metadata": {},
   "source": [
    "Given below are the sample records"
   ]
  },
  {
   "cell_type": "code",
   "execution_count": 3,
   "metadata": {},
   "outputs": [
    {
     "data": {
      "text/html": [
       "<div>\n",
       "<style>\n",
       "    .dataframe thead tr:only-child th {\n",
       "        text-align: right;\n",
       "    }\n",
       "\n",
       "    .dataframe thead th {\n",
       "        text-align: left;\n",
       "    }\n",
       "\n",
       "    .dataframe tbody tr th {\n",
       "        vertical-align: top;\n",
       "    }\n",
       "</style>\n",
       "<table border=\"1\" class=\"dataframe\">\n",
       "  <thead>\n",
       "    <tr style=\"text-align: right;\">\n",
       "      <th></th>\n",
       "      <th>Q1</th>\n",
       "      <th>Q2</th>\n",
       "      <th>Q3</th>\n",
       "      <th>Q4</th>\n",
       "      <th>Q5</th>\n",
       "      <th>Q6</th>\n",
       "      <th>Q7</th>\n",
       "      <th>Q8</th>\n",
       "      <th>Q9</th>\n",
       "      <th>Q10</th>\n",
       "      <th>...</th>\n",
       "      <th>race_arab</th>\n",
       "      <th>race_asian</th>\n",
       "      <th>race_black</th>\n",
       "      <th>race_white</th>\n",
       "      <th>race_hispanic</th>\n",
       "      <th>race_nativeam</th>\n",
       "      <th>race_nativeau</th>\n",
       "      <th>race_other</th>\n",
       "      <th>nerdy</th>\n",
       "      <th>ASD</th>\n",
       "    </tr>\n",
       "  </thead>\n",
       "  <tbody>\n",
       "    <tr>\n",
       "      <th>0</th>\n",
       "      <td>3</td>\n",
       "      <td>5</td>\n",
       "      <td>3</td>\n",
       "      <td>3</td>\n",
       "      <td>5</td>\n",
       "      <td>5</td>\n",
       "      <td>5</td>\n",
       "      <td>3</td>\n",
       "      <td>5</td>\n",
       "      <td>5</td>\n",
       "      <td>...</td>\n",
       "      <td>0</td>\n",
       "      <td>0</td>\n",
       "      <td>0</td>\n",
       "      <td>1</td>\n",
       "      <td>0</td>\n",
       "      <td>0</td>\n",
       "      <td>0</td>\n",
       "      <td>0</td>\n",
       "      <td>7</td>\n",
       "      <td>2</td>\n",
       "    </tr>\n",
       "    <tr>\n",
       "      <th>1</th>\n",
       "      <td>4</td>\n",
       "      <td>4</td>\n",
       "      <td>4</td>\n",
       "      <td>3</td>\n",
       "      <td>5</td>\n",
       "      <td>2</td>\n",
       "      <td>5</td>\n",
       "      <td>1</td>\n",
       "      <td>4</td>\n",
       "      <td>4</td>\n",
       "      <td>...</td>\n",
       "      <td>0</td>\n",
       "      <td>0</td>\n",
       "      <td>0</td>\n",
       "      <td>1</td>\n",
       "      <td>0</td>\n",
       "      <td>0</td>\n",
       "      <td>0</td>\n",
       "      <td>0</td>\n",
       "      <td>6</td>\n",
       "      <td>2</td>\n",
       "    </tr>\n",
       "    <tr>\n",
       "      <th>2</th>\n",
       "      <td>5</td>\n",
       "      <td>5</td>\n",
       "      <td>5</td>\n",
       "      <td>5</td>\n",
       "      <td>5</td>\n",
       "      <td>5</td>\n",
       "      <td>5</td>\n",
       "      <td>5</td>\n",
       "      <td>5</td>\n",
       "      <td>5</td>\n",
       "      <td>...</td>\n",
       "      <td>0</td>\n",
       "      <td>0</td>\n",
       "      <td>0</td>\n",
       "      <td>1</td>\n",
       "      <td>0</td>\n",
       "      <td>0</td>\n",
       "      <td>0</td>\n",
       "      <td>0</td>\n",
       "      <td>7</td>\n",
       "      <td>2</td>\n",
       "    </tr>\n",
       "    <tr>\n",
       "      <th>3</th>\n",
       "      <td>5</td>\n",
       "      <td>5</td>\n",
       "      <td>5</td>\n",
       "      <td>5</td>\n",
       "      <td>5</td>\n",
       "      <td>5</td>\n",
       "      <td>5</td>\n",
       "      <td>3</td>\n",
       "      <td>5</td>\n",
       "      <td>5</td>\n",
       "      <td>...</td>\n",
       "      <td>0</td>\n",
       "      <td>0</td>\n",
       "      <td>0</td>\n",
       "      <td>1</td>\n",
       "      <td>0</td>\n",
       "      <td>0</td>\n",
       "      <td>0</td>\n",
       "      <td>0</td>\n",
       "      <td>7</td>\n",
       "      <td>2</td>\n",
       "    </tr>\n",
       "    <tr>\n",
       "      <th>4</th>\n",
       "      <td>4</td>\n",
       "      <td>4</td>\n",
       "      <td>4</td>\n",
       "      <td>4</td>\n",
       "      <td>4</td>\n",
       "      <td>4</td>\n",
       "      <td>4</td>\n",
       "      <td>4</td>\n",
       "      <td>4</td>\n",
       "      <td>5</td>\n",
       "      <td>...</td>\n",
       "      <td>0</td>\n",
       "      <td>0</td>\n",
       "      <td>0</td>\n",
       "      <td>1</td>\n",
       "      <td>0</td>\n",
       "      <td>0</td>\n",
       "      <td>0</td>\n",
       "      <td>0</td>\n",
       "      <td>6</td>\n",
       "      <td>2</td>\n",
       "    </tr>\n",
       "  </tbody>\n",
       "</table>\n",
       "<p>5 rows × 80 columns</p>\n",
       "</div>"
      ],
      "text/plain": [
       "   Q1  Q2  Q3  Q4  Q5  Q6  Q7  Q8  Q9  Q10 ...   race_arab  race_asian  \\\n",
       "0   3   5   3   3   5   5   5   3   5    5 ...           0           0   \n",
       "1   4   4   4   3   5   2   5   1   4    4 ...           0           0   \n",
       "2   5   5   5   5   5   5   5   5   5    5 ...           0           0   \n",
       "3   5   5   5   5   5   5   5   3   5    5 ...           0           0   \n",
       "4   4   4   4   4   4   4   4   4   4    5 ...           0           0   \n",
       "\n",
       "   race_black  race_white  race_hispanic  race_nativeam  race_nativeau  \\\n",
       "0           0           1              0              0              0   \n",
       "1           0           1              0              0              0   \n",
       "2           0           1              0              0              0   \n",
       "3           0           1              0              0              0   \n",
       "4           0           1              0              0              0   \n",
       "\n",
       "   race_other  nerdy  ASD  \n",
       "0           0      7    2  \n",
       "1           0      6    2  \n",
       "2           0      7    2  \n",
       "3           0      7    2  \n",
       "4           0      6    2  \n",
       "\n",
       "[5 rows x 80 columns]"
      ]
     },
     "execution_count": 3,
     "metadata": {},
     "output_type": "execute_result"
    }
   ],
   "source": [
    "data.head(5)"
   ]
  },
  {
   "cell_type": "markdown",
   "metadata": {},
   "source": [
    "Out of 80 columns, 78 are numeric"
   ]
  },
  {
   "cell_type": "code",
   "execution_count": 4,
   "metadata": {},
   "outputs": [
    {
     "data": {
      "text/plain": [
       "78"
      ]
     },
     "execution_count": 4,
     "metadata": {},
     "output_type": "execute_result"
    }
   ],
   "source": [
    "len(data.dtypes[data.dtypes==np.int64]) + len(data.dtypes[data.dtypes==np.float64])\n"
   ]
  },
  {
   "cell_type": "markdown",
   "metadata": {},
   "source": [
    "The non-numeric columns are given below."
   ]
  },
  {
   "cell_type": "code",
   "execution_count": 5,
   "metadata": {},
   "outputs": [
    {
     "data": {
      "text/plain": [
       "country    object\n",
       "major      object\n",
       "dtype: object"
      ]
     },
     "execution_count": 5,
     "metadata": {},
     "output_type": "execute_result"
    }
   ],
   "source": [
    "data.dtypes[data.dtypes == object]"
   ]
  },
  {
   "cell_type": "markdown",
   "metadata": {},
   "source": [
    "## Tyding up the data"
   ]
  },
  {
   "cell_type": "markdown",
   "metadata": {},
   "source": [
    "### Checking for missing values\n",
    "\n",
    "The below table display the columns which have missing values or NAs."
   ]
  },
  {
   "cell_type": "code",
   "execution_count": 6,
   "metadata": {
    "scrolled": true
   },
   "outputs": [
    {
     "data": {
      "text/html": [
       "<table><tr><th>Attribute</th><th>Count</th></tr><tr><td>country</td><td>3</td></tr><tr><td>major</td><td>10998</td></tr></table>"
      ],
      "text/plain": [
       "<IPython.core.display.HTML object>"
      ]
     },
     "metadata": {},
     "output_type": "display_data"
    }
   ],
   "source": [
    "html = '<table><tr><th>Attribute</th><th>Count</th></tr>'\n",
    "for d in data.columns:\n",
    "    if(data[d].isnull().sum() > 0):\n",
    "        html = html + '<tr><td>'\n",
    "        html = html + (d)\n",
    "        html = html + ('</td><td>')\n",
    "        html = html + (str(data[d].isnull().sum()))\n",
    "        html = html + ('</td></tr>')\n",
    "html = html + ('</table>')\n",
    "display(HTML(html))\n",
    "del d\n",
    "del html"
   ]
  },
  {
   "cell_type": "markdown",
   "metadata": {},
   "source": [
    "The total nnumber of rows in data set is **25226**, out of which for column **major** 10998 values are missing."
   ]
  },
  {
   "cell_type": "markdown",
   "metadata": {},
   "source": [
    "##Reason for dropping major field."
   ]
  },
  {
   "cell_type": "code",
   "execution_count": 7,
   "metadata": {
    "collapsed": true
   },
   "outputs": [],
   "source": [
    "majors = data['major'].unique()\n",
    "data.drop(\"major\", axis=1, inplace=True)"
   ]
  },
  {
   "cell_type": "markdown",
   "metadata": {},
   "source": [
    "After dropping the major column, replacing the country NA values with **NONE**, the country field is captured by the website which hosts the survey and NONE is a valid value"
   ]
  },
  {
   "cell_type": "code",
   "execution_count": 8,
   "metadata": {
    "collapsed": true
   },
   "outputs": [],
   "source": [
    "data = data.replace(np.nan, 'NONE', regex=True)"
   ]
  },
  {
   "cell_type": "markdown",
   "metadata": {},
   "source": [
    "### Validating data"
   ]
  },
  {
   "cell_type": "markdown",
   "metadata": {},
   "source": [
    "Below we display the levels for categorical fields"
   ]
  },
  {
   "cell_type": "code",
   "execution_count": 9,
   "metadata": {
    "scrolled": true
   },
   "outputs": [
    {
     "name": "stdout",
     "output_type": "stream",
     "text": [
      "Q1             : [3 4 5 1 2 0]\n",
      "Q2             : [5 4 3 2 1 0]\n",
      "Q3             : [3 4 5 2 1 0]\n",
      "Q4             : [3 5 4 2 1 0]\n",
      "Q5             : [5 4 2 1 3 0]\n",
      "Q6             : [5 2 4 3 1 0]\n",
      "Q7             : [5 4 3 0 1 2]\n",
      "Q8             : [3 1 5 4 2 0]\n",
      "Q9             : [5 4 3 2 1 0]\n",
      "Q10            : [5 4 0 3 2 1]\n",
      "Q11            : [4 1 5 3 2 0]\n",
      "Q12            : [5 4 3 1 2 0]\n",
      "Q13            : [5 4 3 1 2 0]\n",
      "Q14            : [5 4 3 2 1 0]\n",
      "Q15            : [3 1 4 5 2 0]\n",
      "Q16            : [5 3 2 1 4 0]\n",
      "Q17            : [4 3 5 2 1 0]\n",
      "Q18            : [5 3 4 1 2 0]\n",
      "Q19            : [5 1 3 4 2 0]\n",
      "Q20            : [5 3 4 1 0 2]\n",
      "Q21            : [5 3 4 2 1 0]\n",
      "Q22            : [5 3 1 4 2 0]\n",
      "Q23            : [5 4 3 1 2 0]\n",
      "Q24            : [5 4 3 2 1 0]\n",
      "Q25            : [5 4 3 2 1 0]\n",
      "Q26            : [5 0 4 3 2 1]\n",
      "TIPI1          : [1 5 7 2 3 4 6 0]\n",
      "TIPI2          : [1 3 6 2 5 4 7 0]\n",
      "TIPI3          : [7 5 3 4 2 6 1 0]\n",
      "TIPI4          : [1 4 7 3 5 6 2 0]\n",
      "TIPI5          : [6 5 7 3 2 4 0 1]\n",
      "TIPI6          : [7 5 2 6 1 3 4 0]\n",
      "TIPI7          : [7 5 2 6 4 3 1 0]\n",
      "TIPI8          : [1 5 6 3 7 4 2 0]\n",
      "TIPI9          : [7 6 2 4 1 3 5 0]\n",
      "TIPI10         : [1 2 4 3 5 6 7 0]\n",
      "VCL1           : [1 0]\n",
      "VCL2           : [1 0]\n",
      "VCL3           : [1 0]\n",
      "VCL4           : [1 0]\n",
      "VCL5           : [1 0]\n",
      "VCL6           : [0 1]\n",
      "VCL7           : [1 0]\n",
      "VCL8           : [1 0]\n",
      "VCL9           : [0 1]\n",
      "VCL10          : [1 0]\n",
      "VCL11          : [1 0]\n",
      "VCL12          : [0 1]\n",
      "VCL13          : [1 0]\n",
      "VCL14          : [1 0]\n",
      "VCL15          : [1 0]\n",
      "VCL16          : [1 0]\n",
      "education      : [3 4 1 2 0]\n",
      "urban          : [2 1 3 0]\n",
      "gender         : [2 1 3 0]\n",
      "engnat         : [1 2 0]\n",
      "hand           : [1 2 3 0]\n",
      "religion       : [ 6  1  2  7 12  3  4 10  9  0  8  5 11]\n",
      "orientation    : [1 2 4 5 3 0]\n",
      "voted          : [1 2 0]\n",
      "married        : [3 1 2 0]\n",
      "race_arab      : [0 1]\n",
      "race_asian     : [0 1]\n",
      "race_black     : [0 1]\n",
      "race_white     : [1 0]\n",
      "race_hispanic  : [0 1]\n",
      "race_nativeam  : [0 1]\n",
      "race_nativeau  : [0 1]\n",
      "race_other     : [0 1]\n",
      "nerdy          : [7 6 5 2 4 3 1 0]\n",
      "ASD            : [2 1 0]\n"
     ]
    }
   ],
   "source": [
    "categories = data.columns[~data.columns.isin(['age','introelapse', 'testelapse', 'surveyelapse', 'screenh',\n",
    "                                              'screenw', 'familysize', 'country'])]\n",
    "\n",
    "for d in categories:\n",
    "    print(d.ljust(14), ':', data[d].unique())\n",
    "del d"
   ]
  },
  {
   "cell_type": "markdown",
   "metadata": {},
   "source": [
    "All the columns/attributes above have valid values.\n",
    "\n",
    "Checking numeric columns *'age','introelapse', 'testelapse', 'surveyelapse', 'screenh', 'screenw' and 'familysize'*"
   ]
  },
  {
   "cell_type": "code",
   "execution_count": 10,
   "metadata": {
    "scrolled": true
   },
   "outputs": [
    {
     "name": "stdout",
     "output_type": "stream",
     "text": [
      "introelapse    :  0 1381016\n",
      "testelapse     :  1 698533\n",
      "surveyelapse   :  2 15166994\n",
      "age            : 13 38822\n",
      "screenw        :  0 3840\n",
      "screenh        :  0 2561\n",
      "familysize     :  0 39947739\n"
     ]
    }
   ],
   "source": [
    "categories = data.columns[data.columns.isin(['age','introelapse', 'testelapse', 'surveyelapse', 'screenh',\n",
    "                                              'screenw', 'familysize'])]\n",
    "for d in categories:\n",
    "    print(d.ljust(14), ':', str(min(data[d])).rjust(2), max(data[d]))\n",
    "del d"
   ]
  },
  {
   "cell_type": "markdown",
   "metadata": {},
   "source": [
    "**age** field has values greater than 122, the maximum recorded age for a person in modern era. __https://en.wikipedia.org/wiki/Maximum_life_span#In_humans__\n",
    "\n",
    "Checking the count of records where age > 122."
   ]
  },
  {
   "cell_type": "code",
   "execution_count": 11,
   "metadata": {},
   "outputs": [
    {
     "data": {
      "text/plain": [
       "10"
      ]
     },
     "execution_count": 11,
     "metadata": {},
     "output_type": "execute_result"
    }
   ],
   "source": [
    "(data['age'] > 122).sum()"
   ]
  },
  {
   "cell_type": "markdown",
   "metadata": {},
   "source": [
    "Since there are only 10 records where age is not valid, removing the records where age > 122"
   ]
  },
  {
   "cell_type": "code",
   "execution_count": 12,
   "metadata": {},
   "outputs": [
    {
     "data": {
      "text/plain": [
       "(25216, 79)"
      ]
     },
     "execution_count": 12,
     "metadata": {},
     "output_type": "execute_result"
    }
   ],
   "source": [
    "data = data[data['age']<122]\n",
    "data.shape"
   ]
  },
  {
   "cell_type": "code",
   "execution_count": 13,
   "metadata": {},
   "outputs": [
    {
     "data": {
      "image/png": "[encoded data removed]",
      "text/plain": [
       "<matplotlib.figure.Figure at 0x25141b9c9b0>"
      ]
     },
     "metadata": {},
     "output_type": "display_data"
    }
   ],
   "source": [
    "plt.hist(data['age'], bins=range(10, 122))\n",
    "plt.show()"
   ]
  },
  {
   "cell_type": "markdown",
   "metadata": {},
   "source": [
    "Family size field has a maximum value of 39947739, which seems to be incorrect. Checking the quantiles for the family size. "
   ]
  },
  {
   "cell_type": "code",
   "execution_count": 14,
   "metadata": {},
   "outputs": [
    {
     "data": {
      "text/plain": [
       "0.01    0.0\n",
       "0.25    2.0\n",
       "0.50    2.0\n",
       "0.75    3.0\n",
       "0.99    7.0\n",
       "Name: familysize, dtype: float64"
      ]
     },
     "execution_count": 14,
     "metadata": {},
     "output_type": "execute_result"
    }
   ],
   "source": [
    "data['familysize'].quantile([.01,.25,.5,.75,.99])"
   ]
  },
  {
   "cell_type": "markdown",
   "metadata": {},
   "source": [
    "Although 99% of the values for family sizes are less than or equal to 7, removing rows greater where family size is greater than 25."
   ]
  },
  {
   "cell_type": "code",
   "execution_count": 15,
   "metadata": {},
   "outputs": [
    {
     "data": {
      "text/plain": [
       "(25211, 79)"
      ]
     },
     "execution_count": 15,
     "metadata": {},
     "output_type": "execute_result"
    }
   ],
   "source": [
    "data = data.loc[data['familysize']<25]\n",
    "data.shape"
   ]
  },
  {
   "cell_type": "code",
   "execution_count": 16,
   "metadata": {},
   "outputs": [
    {
     "data": {
      "image/png": "[encoded data removed]",
      "text/plain": [
       "<matplotlib.figure.Figure at 0x25142e1d828>"
      ]
     },
     "metadata": {},
     "output_type": "display_data"
    }
   ],
   "source": [
    "plt.boxplot(data['familysize'], showbox=True, autorange=True, showfliers=True)\n",
    "plt.show()"
   ]
  },
  {
   "cell_type": "code",
   "execution_count": 17,
   "metadata": {},
   "outputs": [
    {
     "data": {
      "text/plain": [
       "55"
      ]
     },
     "execution_count": 17,
     "metadata": {},
     "output_type": "execute_result"
    }
   ],
   "source": [
    "data_temp = data.loc[data['screenw'] == 0]\n",
    "len(data_temp['screenw'])"
   ]
  },
  {
   "cell_type": "code",
   "execution_count": 18,
   "metadata": {},
   "outputs": [
    {
     "data": {
      "text/plain": [
       "55"
      ]
     },
     "execution_count": 18,
     "metadata": {},
     "output_type": "execute_result"
    }
   ],
   "source": [
    "data_temp = data.loc[data['screenh'] == 0]\n",
    "len(data_temp['screenh'])"
   ]
  },
  {
   "cell_type": "markdown",
   "metadata": {},
   "source": [
    "for screen width and height there are certain records for which values are 0 which is not possible. Since these values are captured by automated scripts on the survey website, it can assumed the values were not captured for the records where it is 0.\n",
    "\n",
    "Replacing the 0 values with median of these fields."
   ]
  },
  {
   "cell_type": "code",
   "execution_count": 19,
   "metadata": {},
   "outputs": [
    {
     "data": {
      "text/plain": [
       "0.01     320.0\n",
       "0.25     375.0\n",
       "0.50    1280.0\n",
       "0.75    1440.0\n",
       "0.99    2048.0\n",
       "Name: screenw, dtype: float64"
      ]
     },
     "execution_count": 19,
     "metadata": {},
     "output_type": "execute_result"
    }
   ],
   "source": [
    "data['screenw'].quantile([.01,.25,.5,.75,.99])"
   ]
  },
  {
   "cell_type": "code",
   "execution_count": 20,
   "metadata": {},
   "outputs": [
    {
     "data": {
      "text/plain": [
       "0.01     412.0\n",
       "0.25     667.0\n",
       "0.50     768.0\n",
       "0.75     900.0\n",
       "0.99    1366.0\n",
       "Name: screenh, dtype: float64"
      ]
     },
     "execution_count": 20,
     "metadata": {},
     "output_type": "execute_result"
    }
   ],
   "source": [
    "data['screenh'].quantile([.01,.25,.5,.75,.99])"
   ]
  },
  {
   "cell_type": "code",
   "execution_count": 21,
   "metadata": {
    "collapsed": true
   },
   "outputs": [],
   "source": [
    "data['screenw'].replace(0,1280, inplace=True);\n",
    "data['screenh'].replace(0,768, inplace=True);"
   ]
  },
  {
   "cell_type": "code",
   "execution_count": 22,
   "metadata": {},
   "outputs": [
    {
     "data": {
      "image/png": "[encoded data removed]",
      "text/plain": [
       "<matplotlib.figure.Figure at 0x251432b2518>"
      ]
     },
     "metadata": {},
     "output_type": "display_data"
    }
   ],
   "source": [
    "plt.hist(data['screenw'])\n",
    "plt.show()"
   ]
  },
  {
   "cell_type": "code",
   "execution_count": 23,
   "metadata": {},
   "outputs": [
    {
     "data": {
      "image/png": "[encoded data removed]",
      "text/plain": [
       "<matplotlib.figure.Figure at 0x25143151f60>"
      ]
     },
     "metadata": {},
     "output_type": "display_data"
    }
   ],
   "source": [
    "plt.hist(data['screenh'])\n",
    "plt.show()"
   ]
  },
  {
   "cell_type": "markdown",
   "metadata": {},
   "source": [
    "The fields **`introelapse`, `testelapse` `and` `surveyelapse`** capture the time spent by user on different screens, **`introduction/landing page`, `Research in Personality page` `and` `Demographic and survey questions`** respectively."
   ]
  },
  {
   "cell_type": "code",
   "execution_count": 24,
   "metadata": {},
   "outputs": [
    {
     "data": {
      "text/plain": [
       "0.01      1.0\n",
       "0.25      4.0\n",
       "0.50     10.0\n",
       "0.75     38.0\n",
       "0.90    411.0\n",
       "Name: introelapse, dtype: float64"
      ]
     },
     "execution_count": 24,
     "metadata": {},
     "output_type": "execute_result"
    }
   ],
   "source": [
    "data['introelapse'].quantile([.01,.25,.5,.75,.90])"
   ]
  },
  {
   "cell_type": "code",
   "execution_count": 25,
   "metadata": {},
   "outputs": [
    {
     "data": {
      "text/plain": [
       "464"
      ]
     },
     "execution_count": 25,
     "metadata": {},
     "output_type": "execute_result"
    }
   ],
   "source": [
    "data_temp = data.loc[data['introelapse'] > 3000]\n",
    "len(data_temp['introelapse'])"
   ]
  },
  {
   "cell_type": "markdown",
   "metadata": {},
   "source": [
    "There are values in for `introelapse` which are greater than .95 percentile value 1035.\n",
    "The time on the computer screens are captured in milliseconds we suspect that the values for which it greater than .95 pecentile have been noted as milliseconds rather than seconds.\n",
    "\n",
    "Assigning the value of "
   ]
  },
  {
   "cell_type": "code",
   "execution_count": 26,
   "metadata": {
    "collapsed": true
   },
   "outputs": [],
   "source": [
    "## replace with .99 percentile value??\n",
    "#data.loc[data['introelapse'] > 3000, 'introelapse'] = 3000"
   ]
  },
  {
   "cell_type": "code",
   "execution_count": 27,
   "metadata": {},
   "outputs": [
    {
     "data": {
      "text/plain": [
       "0.01      48.0\n",
       "0.25      82.0\n",
       "0.50     105.0\n",
       "0.75     140.0\n",
       "0.99    1145.7\n",
       "Name: testelapse, dtype: float64"
      ]
     },
     "execution_count": 27,
     "metadata": {},
     "output_type": "execute_result"
    }
   ],
   "source": [
    "data['testelapse'].quantile([.01,.25,.5,.75,.99])"
   ]
  },
  {
   "cell_type": "code",
   "execution_count": 28,
   "metadata": {},
   "outputs": [
    {
     "data": {
      "text/plain": [
       "103"
      ]
     },
     "execution_count": 28,
     "metadata": {},
     "output_type": "execute_result"
    }
   ],
   "source": [
    "data_temp = data.loc[data['testelapse'] > 3000]\n",
    "len(data_temp['testelapse'])"
   ]
  },
  {
   "cell_type": "code",
   "execution_count": 29,
   "metadata": {},
   "outputs": [
    {
     "data": {
      "text/plain": [
       "0.01      72.0\n",
       "0.25     126.0\n",
       "0.50     164.0\n",
       "0.75     216.0\n",
       "0.99    1023.8\n",
       "Name: surveyelapse, dtype: float64"
      ]
     },
     "execution_count": 29,
     "metadata": {},
     "output_type": "execute_result"
    }
   ],
   "source": [
    "data['surveyelapse'].quantile([.01,.25,.5,.75,.99])"
   ]
  },
  {
   "cell_type": "code",
   "execution_count": 30,
   "metadata": {},
   "outputs": [
    {
     "data": {
      "text/plain": [
       "253"
      ]
     },
     "execution_count": 30,
     "metadata": {},
     "output_type": "execute_result"
    }
   ],
   "source": [
    "data_temp = data.loc[data['surveyelapse'] > 1023.8]\n",
    "len(data_temp['surveyelapse'])"
   ]
  },
  {
   "cell_type": "markdown",
   "metadata": {},
   "source": [
    "### Handling special conditions"
   ]
  },
  {
   "cell_type": "markdown",
   "metadata": {},
   "source": [
    "On further investigation of the business process, it was found that columns `Q1-Q26` cannot be all be zero, for any record to be valid.\n",
    "\n",
    "*Removing the records where values are zero for columns `Q1-Q26`.*"
   ]
  },
  {
   "cell_type": "code",
   "execution_count": 31,
   "metadata": {},
   "outputs": [
    {
     "data": {
      "text/plain": [
       "(25197, 79)"
      ]
     },
     "execution_count": 31,
     "metadata": {},
     "output_type": "execute_result"
    }
   ],
   "source": [
    "data = data[~(data.loc[:,'Q1':'Q26':1]==0).all(axis=1)]\n",
    "data.shape"
   ]
  },
  {
   "cell_type": "code",
   "execution_count": 32,
   "metadata": {},
   "outputs": [
    {
     "data": {
      "image/png": "[encoded data removed]",
      "text/plain": [
       "<matplotlib.figure.Figure at 0x25143291a90>"
      ]
     },
     "metadata": {},
     "output_type": "display_data"
    }
   ],
   "source": [
    "fig, axs = plt.subplots(1, 5, figsize=(9, 3), sharey=True)\n",
    "for idx, d in enumerate(data.columns[0:5]):\n",
    "    dc = data[d].value_counts(sort=True)\n",
    "    axs[idx].bar(dc.index, dc.values)\n",
    "    axs[idx].set_xlabel(d)\n",
    "fig.text(0.5, -0.08, 'Questions', ha='center')\n",
    "fig.text(0.04, 0.5, 'Count', va='center', rotation='vertical')\n",
    "fig.suptitle('Plotting for Question Q1-Q5')\n",
    "plt.show()\n",
    "del dc\n",
    "del d\n",
    "del idx"
   ]
  },
  {
   "cell_type": "code",
   "execution_count": 33,
   "metadata": {},
   "outputs": [
    {
     "data": {
      "image/png": "[encoded data removed]",
      "text/plain": [
       "<matplotlib.figure.Figure at 0x251433db9b0>"
      ]
     },
     "metadata": {},
     "output_type": "display_data"
    }
   ],
   "source": [
    "def format_axes(fig):\n",
    "    for i, ax in enumerate(fig.axes):\n",
    "        ax.tick_params(labelbottom=True, labelleft=True)\n",
    "        \n",
    "fig = plt.figure(figsize=(17,7))\n",
    "gs = GridSpec(2, 5)\n",
    "for idx, d in enumerate(data.columns[0:5]):\n",
    "    dc = data[d].value_counts(sort=True)\n",
    "    asx = fig.add_subplot(gs[0, idx])\n",
    "    asx.bar(dc.index, dc.values)\n",
    "    asx.set_xlabel(d)\n",
    "\n",
    "asx = fig.add_subplot(gs[1, :])\n",
    "dc = data['nerdy'].value_counts(sort=True)\n",
    "asx.bar(dc.index, dc.values)\n",
    "asx.set_xlabel('nerdy')\n",
    "\n",
    "format_axes(fig)\n",
    "\n",
    "fig.text(0.5, -0.08, 'Questions', ha='center')\n",
    "fig.text(0.04, 0.75, 'Count', va='center', rotation='vertical')\n",
    "fig.suptitle('Plotting for Question Q1-Q5')\n",
    "plt.show()\n",
    "del dc\n",
    "del d\n",
    "del idx"
   ]
  },
  {
   "cell_type": "code",
   "execution_count": 34,
   "metadata": {},
   "outputs": [
    {
     "data": {
      "image/png": "[encoded data removed]",
      "text/plain": [
       "<matplotlib.figure.Figure at 0x25143679cf8>"
      ]
     },
     "metadata": {},
     "output_type": "display_data"
    }
   ],
   "source": [
    "fig = plt.figure(figsize=(17,7))\n",
    "gs = GridSpec(2, 5)\n",
    "for idx, d in enumerate(data.columns[5:10]):\n",
    "    dc = data[d].value_counts(sort=True)\n",
    "    asx = fig.add_subplot(gs[0, idx])\n",
    "    asx.bar(dc.index, dc.values)\n",
    "    asx.set_xlabel(d)\n",
    "\n",
    "asx = fig.add_subplot(gs[1, :])\n",
    "dc = data['nerdy'].value_counts(sort=True)\n",
    "asx.bar(dc.index, dc.values)\n",
    "asx.set_xlabel('nerdy')\n",
    "\n",
    "format_axes(fig)\n",
    "\n",
    "fig.text(0.5, -0.08, 'Questions', ha='center')\n",
    "fig.text(0.04, 0.75, 'Count', va='center', rotation='vertical')\n",
    "fig.suptitle('Plotting for Question Q6-Q10')\n",
    "plt.show()\n",
    "del dc\n",
    "del d\n",
    "del idx"
   ]
  },
  {
   "cell_type": "code",
   "execution_count": 35,
   "metadata": {},
   "outputs": [
    {
     "data": {
      "image/png": "[encoded data removed]",
      "text/plain": [
       "<matplotlib.figure.Figure at 0x2514574a278>"
      ]
     },
     "metadata": {},
     "output_type": "display_data"
    }
   ],
   "source": [
    "fig = plt.figure(figsize=(17,7))\n",
    "gs = GridSpec(2, 5)\n",
    "for idx, d in enumerate(data.columns[10:15]):\n",
    "    dc = data[d].value_counts(sort=True)\n",
    "    asx = fig.add_subplot(gs[0, idx])\n",
    "    asx.bar(dc.index, dc.values)\n",
    "    asx.set_xlabel(d)\n",
    "\n",
    "asx = fig.add_subplot(gs[1, :])\n",
    "dc = data['nerdy'].value_counts(sort=True)\n",
    "asx.bar(dc.index, dc.values)\n",
    "asx.set_xlabel('nerdy')\n",
    "\n",
    "format_axes(fig)\n",
    "\n",
    "fig.text(0.5, -0.08, 'Questions', ha='center')\n",
    "fig.text(0.04, 0.75, 'Count', va='center', rotation='vertical')\n",
    "fig.suptitle('Plotting for Question Q10-Q15')\n",
    "plt.show()\n",
    "del dc\n",
    "del d\n",
    "del idx"
   ]
  },
  {
   "cell_type": "code",
   "execution_count": 37,
   "metadata": {},
   "outputs": [
    {
     "data": {
      "image/png": "[encoded data removed]",
      "text/plain": [
       "<matplotlib.figure.Figure at 0x25143752128>"
      ]
     },
     "metadata": {},
     "output_type": "display_data"
    }
   ],
   "source": [
    "fig = plt.figure(figsize=(17,7))\n",
    "gs = GridSpec(2, 5)\n",
    "for idx, d in enumerate(data.columns[15:20]):\n",
    "    dc = data[d].value_counts(sort=True)\n",
    "    asx = fig.add_subplot(gs[0, idx])\n",
    "    asx.bar(dc.index, dc.values)\n",
    "    asx.set_xlabel(d)\n",
    "\n",
    "asx = fig.add_subplot(gs[1, :])\n",
    "dc = data['nerdy'].value_counts(sort=True)\n",
    "asx.bar(dc.index, dc.values)\n",
    "asx.set_xlabel('nerdy')\n",
    "\n",
    "format_axes(fig)\n",
    "\n",
    "fig.text(0.5, -0.08, 'Questions', ha='center')\n",
    "fig.text(0.04, 0.75, 'Count', va='center', rotation='vertical')\n",
    "fig.suptitle('Plotting for Question Q15-Q20')\n",
    "plt.show()\n",
    "del dc\n",
    "del d\n",
    "del idx"
   ]
  },
  {
   "cell_type": "code",
   "execution_count": 39,
   "metadata": {},
   "outputs": [
    {
     "data": {
      "image/png": "[encoded data removed]",
      "text/plain": [
       "<matplotlib.figure.Figure at 0x25145ac3630>"
      ]
     },
     "metadata": {},
     "output_type": "display_data"
    }
   ],
   "source": [
    "fig = plt.figure(figsize=(17,7))\n",
    "gs = GridSpec(2, 5)\n",
    "for idx, d in enumerate(data.columns[20:25]):\n",
    "    dc = data[d].value_counts(sort=True)\n",
    "    asx = fig.add_subplot(gs[0, idx])\n",
    "    asx.bar(dc.index, dc.values)\n",
    "    asx.set_xlabel(d)\n",
    "\n",
    "asx = fig.add_subplot(gs[1, :])\n",
    "dc = data['nerdy'].value_counts(sort=True)\n",
    "asx.bar(dc.index, dc.values)\n",
    "asx.set_xlabel('nerdy')\n",
    "\n",
    "format_axes(fig)\n",
    "\n",
    "fig.text(0.5, -0.08, 'Questions', ha='center')\n",
    "fig.text(0.04, 0.75, 'Count', va='center', rotation='vertical')\n",
    "fig.suptitle('Plotting for Question Q20-Q25')\n",
    "plt.show()\n",
    "del dc\n",
    "del d\n",
    "del idx"
   ]
  },
  {
   "cell_type": "code",
   "execution_count": 40,
   "metadata": {},
   "outputs": [
    {
     "data": {
      "image/png": "[encoded data removed]",
      "text/plain": [
       "<matplotlib.figure.Figure at 0x251458092b0>"
      ]
     },
     "metadata": {},
     "output_type": "display_data"
    }
   ],
   "source": [
    "fig = plt.figure(figsize=(17,7))\n",
    "gs = GridSpec(2, 5)\n",
    "for idx, d in enumerate(data.columns[25:26]):\n",
    "    dc = data[d].value_counts(sort=True)\n",
    "    asx = fig.add_subplot(gs[0, :])\n",
    "    asx.bar(dc.index, dc.values)\n",
    "    asx.set_xlabel(d)\n",
    "\n",
    "asx = fig.add_subplot(gs[1, :])\n",
    "dc = data['nerdy'].value_counts(sort=True)\n",
    "asx.bar(dc.index, dc.values)\n",
    "asx.set_xlabel('nerdy')\n",
    "\n",
    "format_axes(fig)\n",
    "\n",
    "fig.text(0.5, -0.08, 'Questions', ha='center')\n",
    "fig.text(0.04, 0.75, 'Count', va='center', rotation='vertical')\n",
    "fig.suptitle('Plotting for Question Q26')\n",
    "plt.show()\n",
    "del dc\n",
    "del d\n",
    "del idx"
   ]
  }
 ],
 "metadata": {
  "kernelspec": {
   "display_name": "Python 3",
   "language": "python",
   "name": "python3"
  },
  "language_info": {
   "codemirror_mode": {
    "name": "ipython",
    "version": 3
   },
   "file_extension": ".py",
   "mimetype": "text/x-python",
   "name": "python",
   "nbconvert_exporter": "python",
   "pygments_lexer": "ipython3",
   "version": "3.6.3"
  }
 },
 "nbformat": 4,
 "nbformat_minor": 2
}
